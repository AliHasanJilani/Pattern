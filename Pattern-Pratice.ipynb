{
 "cells": [
  {
   "cell_type": "code",
   "execution_count": 5,
   "id": "c3726a21-7dd1-4f0b-a7d2-82702e0faf9b",
   "metadata": {},
   "outputs": [
    {
     "name": "stdout",
     "output_type": "stream",
     "text": [
      "1 \n",
      "1 2 \n",
      "1 2 3 \n",
      "1 2 3 4 \n",
      "1 2 3 4 5 \n"
     ]
    }
   ],
   "source": [
    "for i in range(1,6):\n",
    "    for j in range(1,i+1):\n",
    "        print(j, end=\" \")\n",
    "    print()"
   ]
  },
  {
   "cell_type": "code",
   "execution_count": 3,
   "id": "22f0c1c3-bf3e-4ec0-9f91-b5dbe94e1361",
   "metadata": {},
   "outputs": [
    {
     "name": "stdout",
     "output_type": "stream",
     "text": [
      "1 2 3 4 5 \n",
      "1 2 3 4 \n",
      "1 2 3 \n",
      "1 2 \n",
      "1 \n",
      "\n"
     ]
    }
   ],
   "source": [
    "for i in range(6,0,-1):\n",
    "    for j in range(1,i):\n",
    "        print(j, end=\" \")\n",
    "    print()"
   ]
  },
  {
   "cell_type": "code",
   "execution_count": 5,
   "id": "93bda720-85db-4f89-909d-2141f3c891da",
   "metadata": {},
   "outputs": [
    {
     "name": "stdout",
     "output_type": "stream",
     "text": [
      "1 \n",
      "1 2 \n",
      "1 2 3 \n",
      "1 2 3 4 \n",
      "1 2 3 4 5 \n",
      "1 2 3 4 \n",
      "1 2 3 \n",
      "1 2 \n",
      "1 \n",
      "\n"
     ]
    }
   ],
   "source": [
    "for i in range(1,6):\n",
    "    for j in range(1,i+1):\n",
    "        print(j, end=\" \")\n",
    "    print()\n",
    "for i in range(5,0,-1):\n",
    "    for j in range(1,i):\n",
    "        print(j, end=\" \")\n",
    "    print()"
   ]
  },
  {
   "cell_type": "code",
   "execution_count": 11,
   "id": "76eb0255-a6ea-4604-9603-b62037790f1e",
   "metadata": {},
   "outputs": [
    {
     "name": "stdout",
     "output_type": "stream",
     "text": [
      "1 \n",
      "2 3 \n",
      "4 5 6 \n",
      "7 8 9 10 \n",
      "11 12 13 14 15 \n"
     ]
    }
   ],
   "source": [
    "n=5\n",
    "num=1\n",
    "for i in range(1,n+1):\n",
    "    for j in range(i):\n",
    "        print(num,end=\" \")\n",
    "        num+=1\n",
    "    print()"
   ]
  },
  {
   "cell_type": "code",
   "execution_count": 40,
   "id": "ee045395-37c3-4db9-bfa7-92e0e26ce86e",
   "metadata": {},
   "outputs": [
    {
     "name": "stdout",
     "output_type": "stream",
     "text": [
      "* * * * * * * \n",
      "*           * \n",
      "*           * \n",
      "*           * \n",
      "* * * * * * * \n"
     ]
    }
   ],
   "source": [
    "for i in range(1,6):\n",
    "    for j in range(1,8):\n",
    "        if j==1 or j==7 or i==1 or i==5:\n",
    "            print(\"*\",end=\" \")\n",
    "        else:\n",
    "            print(\" \",end=\" \")\n",
    "    print()"
   ]
  },
  {
   "cell_type": "code",
   "execution_count": 93,
   "id": "ff824f9a-2c63-4475-a681-0053e264429c",
   "metadata": {},
   "outputs": [
    {
     "name": "stdout",
     "output_type": "stream",
     "text": [
      "          1    \n",
      "        1   1    \n",
      "      1   2   1    \n",
      "    1   3   3   1    \n",
      "  1   4   6   4   1    \n"
     ]
    }
   ],
   "source": [
    "n=5\n",
    "for i in range(n):\n",
    "    num=1\n",
    "    for k in range(n-i):\n",
    "        print(\" \",end=\" \")\n",
    "    for j in range(i+1):\n",
    "        print(num, end=\"   \")\n",
    "        num=num*(i-j)//(j+1)\n",
    "    print(\" \")"
   ]
  },
  {
   "cell_type": "code",
   "execution_count": 97,
   "id": "00b37a84-2afe-4b1a-883e-7f13f5376bf9",
   "metadata": {},
   "outputs": [
    {
     "name": "stdout",
     "output_type": "stream",
     "text": [
      "*        *\n",
      "**      **\n",
      "***    ***\n",
      "****  ****\n",
      "**********\n",
      "****  ****\n",
      "***    ***\n",
      "**      **\n",
      "*        *\n"
     ]
    }
   ],
   "source": [
    "for i in range(1,n+1):\n",
    "    for j in range(1,i+1):\n",
    "        print(\"*\",end=\"\")\n",
    "    for j in range(1,2*(n-i)+1):\n",
    "        print(\" \",end=\"\")\n",
    "    for j in range(1,i+1):\n",
    "        print(\"*\",end=\"\")\n",
    "    print()\n",
    "\n",
    "for i in range(n-1,0,-1):\n",
    "    for j in range(1,i+1):\n",
    "        print(\"*\",end=\"\")\n",
    "    for j in range(1,2*(n-i)+1):\n",
    "        print(\" \",end=\"\")\n",
    "    for j in range(1,i+1):\n",
    "        print(\"*\",end=\"\")\n",
    "    print()"
   ]
  },
  {
   "cell_type": "code",
   "execution_count": 35,
   "id": "7dedabae-ba28-431c-8aac-866570f64123",
   "metadata": {},
   "outputs": [
    {
     "name": "stdout",
     "output_type": "stream",
     "text": [
      " 1 2 3 4 5 6 7 \n",
      "   3 4 5 6 7 \n",
      "     5 6 7 \n",
      "       7 \n"
     ]
    }
   ],
   "source": [
    "for i in range(1,9,2):\n",
    "    for j in range(1,i+1):\n",
    "        print(\"\",end=\" \")\n",
    "    for k in range(i,8):\n",
    "        print(k,end=\" \")\n",
    "    \n",
    "    print(\"\")"
   ]
  },
  {
   "cell_type": "code",
   "execution_count": 51,
   "id": "f35dcdcf-0b02-4161-b42f-9640907e4036",
   "metadata": {},
   "outputs": [
    {
     "name": "stdout",
     "output_type": "stream",
     "text": [
      "         \n",
      "       7 \n",
      "     5 6 7 \n",
      "   3 4 5 6 7 \n",
      " 1 2 3 4 5 6 7 \n"
     ]
    }
   ],
   "source": [
    "for i in range(9,0,-2):\n",
    "    for j in range(1,i+1):\n",
    "        print(\" \",end=\"\")\n",
    "    for k in range(i,8):\n",
    "        print(k,end=\" \")\n",
    "    print()"
   ]
  },
  {
   "cell_type": "code",
   "execution_count": 53,
   "id": "56a0ce1d-f33f-40a6-9e4e-b1de84aa4090",
   "metadata": {},
   "outputs": [
    {
     "name": "stdout",
     "output_type": "stream",
     "text": [
      "       1 \n",
      "     1 2 3 \n",
      "   1 2 3 4 5 \n",
      " 1 2 3 4 5 6 7 \n"
     ]
    }
   ],
   "source": [
    "for i in range(1,9,2):\n",
    "    for j in range(i,8):\n",
    "        print(\"\",end=\" \")\n",
    "    for k in range(1,i+1):\n",
    "        print(k,end=\" \")\n",
    "    \n",
    "    print(\"\")"
   ]
  },
  {
   "cell_type": "code",
   "execution_count": 55,
   "id": "af72a625-b9ae-406c-a1b3-3d0c47241efd",
   "metadata": {},
   "outputs": [
    {
     "name": "stdout",
     "output_type": "stream",
     "text": [
      "1 2 3 4 5 6 7 8 9 \n",
      " 1 2 3 4 5 6 7 \n",
      "   1 2 3 4 5 \n",
      "     1 2 3 \n",
      "       1 \n"
     ]
    }
   ],
   "source": [
    "for i in range(9,0,-2):\n",
    "    for j in range(i,8):\n",
    "        print(\" \",end=\"\")\n",
    "    for k in range(1,i+1):\n",
    "        print(k,end=\" \")\n",
    "    print()"
   ]
  },
  {
   "cell_type": "code",
   "execution_count": 3,
   "id": "ff97a588-f4af-432c-84bf-92ecf2b590eb",
   "metadata": {},
   "outputs": [
    {
     "name": "stdout",
     "output_type": "stream",
     "text": [
      "       1 \n",
      "     1 2 3 \n",
      "   1 2 3 4 5 \n",
      " 1 2 3 4 5 6 7 \n",
      "1 2 3 4 5 6 7 8 9 \n",
      " 1 2 3 4 5 6 7 \n",
      "   1 2 3 4 5 \n",
      "     1 2 3 \n",
      "       1 \n"
     ]
    }
   ],
   "source": [
    "for i in range(1,9,2):\n",
    "    for j in range(i,8):\n",
    "        print(\"\",end=\" \")\n",
    "    for k in range(1,i+1):\n",
    "        print(k,end=\" \")\n",
    "    \n",
    "    print(\"\")\n",
    "\n",
    "for i in range(9,0,-2):\n",
    "    for j in range(i,8):\n",
    "        print(\" \",end=\"\")\n",
    "    for k in range(1,i+1):\n",
    "        print(k,end=\" \")\n",
    "    print()"
   ]
  },
  {
   "cell_type": "code",
   "execution_count": 83,
   "id": "7b95cc65-e381-4aa3-8294-13e11dd6b810",
   "metadata": {},
   "outputs": [],
   "source": [
    "# 1 0 1 0 1\n",
    "#  2 0 2 0\n",
    "#   3 0 3\n",
    "#    4 0\n",
    "#     5"
   ]
  },
  {
   "cell_type": "code",
   "execution_count": 95,
   "id": "812ad0cb-3cca-4f65-9845-75bde20f8288",
   "metadata": {},
   "outputs": [
    {
     "name": "stdout",
     "output_type": "stream",
     "text": [
      "1 2 3 4 5 \n",
      "  2 3 4 5 \n",
      "    3 4 5 \n",
      "      4 5 \n",
      "        5 \n"
     ]
    }
   ],
   "source": [
    "for i in range(1,6):\n",
    "    for j in range(2,i+1):\n",
    "        print(\" \",end=\" \")\n",
    "    for k in range(i,6):\n",
    "        print(k,end=\" \")\n",
    "    print(\"\")"
   ]
  },
  {
   "cell_type": "code",
   "execution_count": 103,
   "id": "5a9afee6-c9cb-478e-977a-46f770d0bed8",
   "metadata": {},
   "outputs": [
    {
     "name": "stdout",
     "output_type": "stream",
     "text": [
      "* * * * * \n",
      "  *     * \n",
      "    *   * \n",
      "      * * \n",
      "        * \n"
     ]
    }
   ],
   "source": [
    "for i in range(1,6):\n",
    "    for j in range(2,i+1):\n",
    "        print(\" \",end=\" \")\n",
    "    for k in range(i,6):\n",
    "        if i==1 or i==5 or k==i or k==5:\n",
    "            print(\"*\",end=\" \")\n",
    "        else:\n",
    "            print(\" \",end=\" \")\n",
    "    print(\"\")"
   ]
  },
  {
   "cell_type": "code",
   "execution_count": 107,
   "id": "6954d46b-00ed-4520-940a-937363e9dd5c",
   "metadata": {},
   "outputs": [
    {
     "name": "stdout",
     "output_type": "stream",
     "text": [
      "1 2 3 4 5 \n",
      "6     7 \n",
      "8   9 \n",
      "10 11 \n",
      "12 \n"
     ]
    }
   ],
   "source": [
    "n=5\n",
    "num=1\n",
    "for i in range(n):\n",
    "    for j in range(n-i):\n",
    "        if j==0 or j==n-i-1 or i==0:\n",
    "            print(num,end=\" \")\n",
    "            num+=1\n",
    "        else:\n",
    "            print(\" \",end=\" \")\n",
    "    print()"
   ]
  }
 ],
 "metadata": {
  "kernelspec": {
   "display_name": "Python [conda env:base] *",
   "language": "python",
   "name": "conda-base-py"
  },
  "language_info": {
   "codemirror_mode": {
    "name": "ipython",
    "version": 3
   },
   "file_extension": ".py",
   "mimetype": "text/x-python",
   "name": "python",
   "nbconvert_exporter": "python",
   "pygments_lexer": "ipython3",
   "version": "3.12.7"
  }
 },
 "nbformat": 4,
 "nbformat_minor": 5
}
